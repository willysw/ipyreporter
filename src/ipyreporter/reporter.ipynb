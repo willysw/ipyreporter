{
 "cells": [
  {
   "cell_type": "code",
   "execution_count": 46,
   "metadata": {},
   "outputs": [],
   "source": [
    "from collections.abc import MutableMapping\n",
    "from typing import Any\n",
    "\n",
    "\n",
    "class ReporterItem:\n",
    "    name: str\n",
    "    value: Any\n",
    "    units: str\n",
    "    desc: str\n",
    "\n",
    "    def __init__(self, name: str, value_args) -> None:\n",
    "        self.name = name\n",
    "        if isinstance(value_args, tuple):\n",
    "            # Decode extra information\n",
    "            self.value, self.units, self.desc = self._decode(value_args)\n",
    "        else:\n",
    "            self.value, self.units, self.desc = value_args, \"\", \"\"\n",
    "\n",
    "    def __str__(self) -> str:\n",
    "        str_out = f\"{self.name}: {self.value}\"\n",
    "        if self.units:\n",
    "            str_out += f\" {self.units}\"     \n",
    "        if self.desc:\n",
    "            str_out += f\", {self.desc}\"\n",
    "        return str_out\n",
    "\n",
    "    def __repr__(self) -> str:\n",
    "        return f\"ReporterItem({self.name}, {self.value}, {self.units}, {self.desc})\"\n",
    "\n",
    "    @staticmethod\n",
    "    def _decode(value_args) -> tuple[Any, str, str]:\n",
    "        # Guarantee at least 3 elements\n",
    "        value_args = list(value_args) + ['', '']\n",
    "        value, unit, desc = value_args[:3]\n",
    "        if not isinstance(unit, str):\n",
    "            unit = str(unit)\n",
    "        if not isinstance(unit, str):\n",
    "            desc = str(desc)\n",
    "        return value, unit, desc\n",
    "\n",
    "\n",
    "class Reporter(MutableMapping):\n",
    "    subsection: str\n",
    "\n",
    "    def __init__(self, subsection: str = '') -> None:\n",
    "        self._item_dict = dict()\n",
    "        self.subsection = subsection\n",
    "\n",
    "    # ===========================\n",
    "    # =   Implement Abstracts   =\n",
    "    # ===========================\n",
    "\n",
    "    def __getitem__(self, key) -> Any:\n",
    "        item: ReporterItem = self._item_dict.__getitem__(key)\n",
    "        return item.value\n",
    "\n",
    "    def __setitem__(self, key, value) -> None:\n",
    "        self._item_dict.__setitem__(key, ReporterItem(key, value))\n",
    "\n",
    "    def __delitem__(self, key) -> None:\n",
    "        self._item_dict.__delitem__(key)\n",
    "\n",
    "    def __len__(self) -> int:\n",
    "        return self._item_dict.__len__()\n",
    "\n",
    "    def __iter__(self):\n",
    "        ...\n",
    "\n",
    "    def update(*args, **kwargs) -> None:\n",
    "        raise NotImplementedError\n",
    "\n",
    "    def __str__(self) -> str:\n",
    "        item_strings = \"\\n\".join([item.__str__() for item in self._item_dict.values()])\n",
    "        if self.subsection:\n",
    "            return self.subsection + \"\\n\" + item_strings\n",
    "        else:\n",
    "            return item_strings\n",
    "\n",
    "    def __repr__(self) -> str:\n",
    "        return self.__str__()\n"
   ]
  },
  {
   "cell_type": "code",
   "execution_count": 47,
   "metadata": {},
   "outputs": [
    {
     "data": {
      "text/plain": [
       "Section 1\n",
       "x: 12.0 m, something\n",
       "y: 12.9 Gm, something else\n",
       "pi: 3.141592653589793, pi\n",
       "v: [1. 2. 3. 4.] J, your mom"
      ]
     },
     "execution_count": 47,
     "metadata": {},
     "output_type": "execute_result"
    }
   ],
   "source": [
    "import numpy as np\n",
    "\n",
    "r = Reporter('Section 1')\n",
    "r['x'] = 12.0, 'm', 'something'\n",
    "r['y'] = 12.9, 'Gm', 'something else'\n",
    "r['pi'] = np.pi, '', 'pi'\n",
    "r['v'] = np.asfarray([1, 2, 3, 4]), 'J', 'your mom'\n",
    "\n",
    "\n",
    "r"
   ]
  },
  {
   "cell_type": "code",
   "execution_count": null,
   "metadata": {},
   "outputs": [],
   "source": []
  }
 ],
 "metadata": {
  "interpreter": {
   "hash": "2c35752adef1c5dd3bf12a1c2292b6083fc4fa5675e99de114b2a861416530c8"
  },
  "kernelspec": {
   "display_name": "Python 3.10.4 ('irep')",
   "language": "python",
   "name": "python3"
  },
  "language_info": {
   "codemirror_mode": {
    "name": "ipython",
    "version": 3
   },
   "file_extension": ".py",
   "mimetype": "text/x-python",
   "name": "python",
   "nbconvert_exporter": "python",
   "pygments_lexer": "ipython3",
   "version": "3.10.4"
  },
  "orig_nbformat": 4
 },
 "nbformat": 4,
 "nbformat_minor": 2
}
