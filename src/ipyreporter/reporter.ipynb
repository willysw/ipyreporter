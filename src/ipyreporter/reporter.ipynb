{
 "cells": [
  {
   "cell_type": "code",
   "execution_count": 15,
   "metadata": {},
   "outputs": [],
   "source": [
    "from collections.abc import MutableMapping\n",
    "from typing import Any, Iterator\n",
    "\n",
    "from reporter_item import ReporterItem\n",
    "\n",
    "\n",
    "class Reporter(MutableMapping):\n",
    "    subsection: str\n",
    "\n",
    "    def __init__(self, subsection: str = '') -> None:\n",
    "        self._item_dict = dict()\n",
    "        self.subsection = subsection\n",
    "\n",
    "    def __call__(self, **kwargs) -> None:\n",
    "        for key, val in kwargs.items():\n",
    "            self.__setitem__(key, val)\n",
    "\n",
    "    # =========================\n",
    "    # =   Attribute Support   =\n",
    "    # =========================\n",
    "\n",
    "    def __getattr__(self, key) -> Any:\n",
    "        item: ReporterItem = self._item_dict.__getitem__(key)\n",
    "        return item.value\n",
    "\n",
    "    def __setattr__(self, key, value) -> None:\n",
    "        # Set variable if it exists\n",
    "        if ('_item_dict' in self.__dict__) and (key in self._item_dict):\n",
    "            self._item_dict.__setitem__(key, ReporterItem(key, value))\n",
    "        \n",
    "        # Delegate to object otherwise\n",
    "        else:\n",
    "            object.__setattr__(self, key, value)\n",
    "\n",
    "    # ===========================\n",
    "    # =   Implement Abstracts   =\n",
    "    # ===========================\n",
    "\n",
    "    def __getitem__(self, key) -> Any:\n",
    "        item: ReporterItem = self._item_dict.__getitem__(key)\n",
    "        return item.value\n",
    "\n",
    "    def __setitem__(self, key, value) -> None:\n",
    "        self._item_dict.__setitem__(key, ReporterItem(key, value))\n",
    "\n",
    "    def __delitem__(self, key) -> None:\n",
    "        self._item_dict.__delitem__(key)\n",
    "\n",
    "    def __len__(self) -> int:\n",
    "        return self._item_dict.__len__()\n",
    "\n",
    "    def __iter__(self) -> Iterator[Any]:\n",
    "        return ((key, item.value) for key, item in self._item_dict.items())\n",
    "\n",
    "    def update(*args, **kwargs) -> None:\n",
    "        raise NotImplementedError\n",
    "\n",
    "    def __str__(self) -> str:\n",
    "        item_strings = \"\\n\".join([item.__str__() for item in self._item_dict.values()])\n",
    "        if self.subsection:\n",
    "            return self.subsection + \"\\n\" + item_strings\n",
    "        else:\n",
    "            return item_strings\n",
    "\n",
    "    def __repr__(self) -> str:\n",
    "        return self.__str__()\n"
   ]
  },
  {
   "cell_type": "code",
   "execution_count": 16,
   "metadata": {},
   "outputs": [
    {
     "data": {
      "text/plain": [
       "Subsection Header\n",
       "x_y: 3.142 m/s, average speed\n",
       "k_0: 2.707 bar, pressure\n",
       "alpha: 34.0 deg\n",
       "v: [1, 2, 3, 4] km, a vector"
      ]
     },
     "execution_count": 16,
     "metadata": {},
     "output_type": "execute_result"
    }
   ],
   "source": [
    "r = Reporter('Subsection Header')\n",
    "r['x_y'] = 3.142, 'm/s', 'average speed'\n",
    "r(k_0=(2.707, 'bar', 'pressure'), alpha=(34.0, 'deg'))\n",
    "r['v'] = [1, 2, 3, 4], 'km', 'a vector'\n",
    "\n",
    "r"
   ]
  },
  {
   "cell_type": "code",
   "execution_count": 17,
   "metadata": {},
   "outputs": [
    {
     "name": "stdout",
     "output_type": "stream",
     "text": [
      "3.142\n",
      "3.142\n",
      "[1, 2, 3, 4]\n"
     ]
    },
    {
     "data": {
      "text/plain": [
       "Subsection Header\n",
       "x_y: 15 yo, mom\n",
       "k_0: 2.707 bar, pressure\n",
       "alpha: 34.0 deg\n",
       "v: 12"
      ]
     },
     "execution_count": 17,
     "metadata": {},
     "output_type": "execute_result"
    }
   ],
   "source": [
    "print(r['x_y'])\n",
    "print(r.x_y)\n",
    "print(r.v)\n",
    "r.x_y = 15, 'yo', 'mom'\n",
    "r.v = 12\n",
    "r"
   ]
  },
  {
   "cell_type": "code",
   "execution_count": null,
   "metadata": {},
   "outputs": [],
   "source": []
  }
 ],
 "metadata": {
  "interpreter": {
   "hash": "2c35752adef1c5dd3bf12a1c2292b6083fc4fa5675e99de114b2a861416530c8"
  },
  "kernelspec": {
   "display_name": "Python 3.10.4 ('irep')",
   "language": "python",
   "name": "python3"
  },
  "language_info": {
   "codemirror_mode": {
    "name": "ipython",
    "version": 3
   },
   "file_extension": ".py",
   "mimetype": "text/x-python",
   "name": "python",
   "nbconvert_exporter": "python",
   "pygments_lexer": "ipython3",
   "version": "3.10.4"
  },
  "orig_nbformat": 4
 },
 "nbformat": 4,
 "nbformat_minor": 2
}
