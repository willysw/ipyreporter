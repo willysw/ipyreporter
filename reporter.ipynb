{
 "cells": [
  {
   "cell_type": "code",
   "execution_count": 1,
   "metadata": {},
   "outputs": [],
   "source": [
    "from ipyreporter import Reporter"
   ]
  },
  {
   "cell_type": "code",
   "execution_count": 2,
   "metadata": {},
   "outputs": [
    {
     "data": {
      "text/plain": [
       "Subsection Header\n",
       "x_y: 3.142 m/s, average speed\n",
       "k_0: 2.707 bar, pressure\n",
       "alpha: 34.0 deg\n",
       "v: [1, 2, 3, 4] km, a vector"
      ]
     },
     "execution_count": 2,
     "metadata": {},
     "output_type": "execute_result"
    }
   ],
   "source": [
    "r = Reporter('Subsection Header')\n",
    "r['x_y'] = 3.142, 'm/s', 'average speed'\n",
    "r(k_0=(2.707, 'bar', 'pressure'), alpha=(34.0, 'deg'))\n",
    "r['v'] = [1, 2, 3, 4], 'km', 'a vector'\n",
    "\n",
    "r"
   ]
  },
  {
   "cell_type": "code",
   "execution_count": 3,
   "metadata": {},
   "outputs": [
    {
     "name": "stdout",
     "output_type": "stream",
     "text": [
      "3.142\n",
      "3.142\n",
      "[1, 2, 3, 4]\n"
     ]
    },
    {
     "data": {
      "text/plain": [
       "Subsection Header\n",
       "x_y: 15 yo, mom\n",
       "k_0: 2.707 bar, pressure\n",
       "alpha: 34.0 deg\n",
       "v: 12"
      ]
     },
     "execution_count": 3,
     "metadata": {},
     "output_type": "execute_result"
    }
   ],
   "source": [
    "print(r['x_y'])\n",
    "print(r.x_y)\n",
    "print(r.v)\n",
    "r.x_y = 15, 'yo', 'mom'\n",
    "r.v = 12\n",
    "r"
   ]
  }
 ],
 "metadata": {
  "interpreter": {
   "hash": "2c35752adef1c5dd3bf12a1c2292b6083fc4fa5675e99de114b2a861416530c8"
  },
  "kernelspec": {
   "display_name": "Python 3.10.4 ('irep')",
   "language": "python",
   "name": "python3"
  },
  "language_info": {
   "codemirror_mode": {
    "name": "ipython",
    "version": 3
   },
   "file_extension": ".py",
   "mimetype": "text/x-python",
   "name": "python",
   "nbconvert_exporter": "python",
   "pygments_lexer": "ipython3",
   "version": "3.10.4"
  },
  "orig_nbformat": 4
 },
 "nbformat": 4,
 "nbformat_minor": 2
}
